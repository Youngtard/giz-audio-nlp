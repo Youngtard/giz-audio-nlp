{
 "cells": [
  {
   "cell_type": "code",
   "execution_count": 1,
   "metadata": {},
   "outputs": [],
   "source": [
    "import numpy as np\n",
    "import pandas as pd"
   ]
  },
  {
   "cell_type": "code",
   "execution_count": 3,
   "metadata": {},
   "outputs": [],
   "source": [
    "dpn = pd.read_csv(\"0.1wd_1_42.csv\")\n",
    "resnext = pd.read_csv(\"1_50_resnext2.csv\")\n",
    "resnet = pd.read_csv(\"1_57_resnet34.csv\")\n",
    "\n",
    "ss = pd.read_csv(\"data/SampleSubmission.csv\")"
   ]
  },
  {
   "cell_type": "code",
   "execution_count": 35,
   "metadata": {},
   "outputs": [],
   "source": [
    "trn = pd.read_csv(\"data/Train.csv\")"
   ]
  },
  {
   "cell_type": "code",
   "execution_count": 44,
   "metadata": {},
   "outputs": [
    {
     "data": {
      "text/plain": [
       "array(['Pump', 'Spinach', 'abalimi', 'afukirira', 'agriculture',\n",
       "       'akammwanyi', 'akamonde', 'akasaanyi', 'akatunda', 'akatungulu',\n",
       "       'akawuka', 'amakoola', 'amakungula', 'amalagala', 'amappapaali',\n",
       "       'amatooke', 'banana', 'beans', 'bibala', 'bulimi', 'butterfly',\n",
       "       'cabbages', 'cassava', 'caterpillar', 'caterpillars', 'coffee',\n",
       "       'crop', 'ddagala', 'dig', 'disease', 'doodo', 'drought', 'ebbugga',\n",
       "       'ebibala', 'ebigimusa', 'ebijanjaalo', 'ebijjanjalo', 'ebikajjo',\n",
       "       'ebikolo', 'ebikongoliro', 'ebikoola', 'ebimera', 'ebinyebwa',\n",
       "       'ebirime', 'ebisaanyi', 'ebisooli', 'ebisoolisooli', 'ebitooke',\n",
       "       'ebiwojjolo', 'ebiwuka', 'ebyobulimi', 'eddagala', 'eggobe',\n",
       "       'ejjobyo', 'ekibala', 'ekigimusa', 'ekijanjaalo', 'ekikajjo',\n",
       "       'ekikolo', 'ekikoola', 'ekimera', 'ekirime', 'ekirwadde',\n",
       "       'ekisaanyi', 'ekitooke', 'ekiwojjolo', 'ekyeya', 'emboga',\n",
       "       'emicungwa', 'emisiri', 'emiyembe', 'emmwanyi', 'endagala',\n",
       "       'endokwa', 'endwadde', 'enkota', 'ennima', 'ennimiro', 'ennyaanya',\n",
       "       'ensigo', 'ensiringanyi', 'ensujju', 'ensuku', 'ensukusa',\n",
       "       'enva endiirwa', 'eppapaali', 'faamu', 'farm', 'farmer',\n",
       "       'farming instructor', 'fertilizer', 'fruit', 'fruit picking',\n",
       "       'garden', 'greens', 'ground nuts', 'harvest', 'harvesting',\n",
       "       'insect', 'insects', 'irish potatoes', 'irrigate', 'kaamulali',\n",
       "       'kasaanyi', 'kassooli', 'kikajjo', 'kikolo', 'kisaanyi',\n",
       "       'kukungula', 'leaf', 'leaves', 'lumonde', 'lusuku', 'maize',\n",
       "       'maize stalk borer', 'maize streak virus', 'mango', 'mangoes',\n",
       "       'matooke', 'matooke seedlings', 'medicine', 'miceere', 'micungwa',\n",
       "       'mpeke', 'muceere', 'mucungwa', 'mulimi', 'munyeera', 'muwogo',\n",
       "       'nakavundira', 'nambaale', 'namuginga', 'ndwadde', 'nfukirira',\n",
       "       'nnakati', 'nnasale beedi', 'nnimiro', 'nnyaanya', 'npk',\n",
       "       'nursery bed', 'obulimi', 'obulwadde', 'obumonde', 'obusaanyi',\n",
       "       'obutunda', 'obutungulu', 'obuwuka', 'okufukirira', 'okufuuyira',\n",
       "       'okugimusa', 'okukkoola', 'okukungula', 'okulima', 'okulimibwa',\n",
       "       'okunnoga', 'okusaasaana', 'okusaasaanya', 'okusiga', 'okusimba',\n",
       "       'okuzifuuyira', 'olusuku', 'omuceere', 'omucungwa', 'omulimi',\n",
       "       'omulimisa', 'omusiri', 'omuyembe', 'onion', 'orange', 'pampu',\n",
       "       'passion fruit', 'pawpaw', 'pepper', 'plant', 'plantation',\n",
       "       'ppaapaali', 'pumpkin', 'rice', 'seed', 'sikungula', 'sow',\n",
       "       'spray', 'spread', 'suckers', 'sugarcane', 'sukumawiki',\n",
       "       'super grow', 'sweet potatoes', 'tomatoes', 'vegetables',\n",
       "       'watermelon', 'weeding', 'worm'], dtype=object)"
      ]
     },
     "execution_count": 44,
     "metadata": {},
     "output_type": "execute_result"
    }
   ],
   "source": [
    "np.unique(trn.label)"
   ]
  },
  {
   "cell_type": "code",
   "execution_count": 47,
   "metadata": {},
   "outputs": [
    {
     "data": {
      "text/plain": [
       "0            pepper\n",
       "1       nakavundira\n",
       "2          omuyembe\n",
       "3            garden\n",
       "4          ennimiro\n",
       "           ...     \n",
       "1012       kassooli\n",
       "1013      obulwadde\n",
       "1014      okugimusa\n",
       "1015        ebbugga\n",
       "1016      ekigimusa\n",
       "Length: 1017, dtype: object"
      ]
     },
     "execution_count": 47,
     "metadata": {},
     "output_type": "execute_result"
    }
   ],
   "source": [
    "ss.iloc[:,1:].idxmax(axis = 1)"
   ]
  },
  {
   "cell_type": "code",
   "execution_count": 58,
   "metadata": {},
   "outputs": [
    {
     "data": {
      "text/html": [
       "<div>\n",
       "<style scoped>\n",
       "    .dataframe tbody tr th:only-of-type {\n",
       "        vertical-align: middle;\n",
       "    }\n",
       "\n",
       "    .dataframe tbody tr th {\n",
       "        vertical-align: top;\n",
       "    }\n",
       "\n",
       "    .dataframe thead th {\n",
       "        text-align: right;\n",
       "    }\n",
       "</style>\n",
       "<table border=\"1\" class=\"dataframe\">\n",
       "  <thead>\n",
       "    <tr style=\"text-align: right;\">\n",
       "      <th></th>\n",
       "      <th>fn</th>\n",
       "    </tr>\n",
       "    <tr>\n",
       "      <th>label</th>\n",
       "      <th></th>\n",
       "    </tr>\n",
       "  </thead>\n",
       "  <tbody>\n",
       "    <tr>\n",
       "      <th>Pump</th>\n",
       "      <td>6</td>\n",
       "    </tr>\n",
       "    <tr>\n",
       "      <th>Spinach</th>\n",
       "      <td>4</td>\n",
       "    </tr>\n",
       "    <tr>\n",
       "      <th>abalimi</th>\n",
       "      <td>4</td>\n",
       "    </tr>\n",
       "    <tr>\n",
       "      <th>afukirira</th>\n",
       "      <td>5</td>\n",
       "    </tr>\n",
       "    <tr>\n",
       "      <th>agriculture</th>\n",
       "      <td>7</td>\n",
       "    </tr>\n",
       "    <tr>\n",
       "      <th>...</th>\n",
       "      <td>...</td>\n",
       "    </tr>\n",
       "    <tr>\n",
       "      <th>fertilizer</th>\n",
       "      <td>5</td>\n",
       "    </tr>\n",
       "    <tr>\n",
       "      <th>fruit</th>\n",
       "      <td>7</td>\n",
       "    </tr>\n",
       "    <tr>\n",
       "      <th>fruit picking</th>\n",
       "      <td>7</td>\n",
       "    </tr>\n",
       "    <tr>\n",
       "      <th>garden</th>\n",
       "      <td>7</td>\n",
       "    </tr>\n",
       "    <tr>\n",
       "      <th>greens</th>\n",
       "      <td>4</td>\n",
       "    </tr>\n",
       "  </tbody>\n",
       "</table>\n",
       "<p>95 rows × 1 columns</p>\n",
       "</div>"
      ],
      "text/plain": [
       "               fn\n",
       "label            \n",
       "Pump            6\n",
       "Spinach         4\n",
       "abalimi         4\n",
       "afukirira       5\n",
       "agriculture     7\n",
       "...            ..\n",
       "fertilizer      5\n",
       "fruit           7\n",
       "fruit picking   7\n",
       "garden          7\n",
       "greens          4\n",
       "\n",
       "[95 rows x 1 columns]"
      ]
     },
     "execution_count": 58,
     "metadata": {},
     "output_type": "execute_result"
    }
   ],
   "source": [
    "trn.groupby(\"label\").count().sort_values(\"label\").head(95)"
   ]
  },
  {
   "cell_type": "code",
   "execution_count": 60,
   "metadata": {},
   "outputs": [
    {
     "data": {
      "text/plain": [
       "fn                    audio_files/00118N3.wav\n",
       "maize streak virus                  0.0385008\n",
       "disease                            0.00140616\n",
       "okukkoola                          0.00119189\n",
       "muwogo                            0.000484385\n",
       "mpeke                             0.000174359\n",
       "mucungwa                          9.03583e-05\n",
       "greens                             0.00897715\n",
       "garden                              0.0186933\n",
       "mango                              0.00692992\n",
       "bulimi                            1.28231e-05\n",
       "obuwuka                            0.00551338\n",
       "ebikoola                          0.000209565\n",
       "obulimi                           6.66081e-05\n",
       "ebisoolisooli                     0.000426325\n",
       "kaamulali                          0.00113088\n",
       "eddagala                           0.00333743\n",
       "beans                               0.0256158\n",
       "omuyembe                          0.000473775\n",
       "leaf                               0.00706537\n",
       "kisaanyi                          0.000310722\n",
       "leaves                            6.57254e-05\n",
       "butterfly                           0.0659316\n",
       "okuzifuuyira                       0.00241055\n",
       "micungwa                          0.000447001\n",
       "ppaapaali                            0.003872\n",
       "emboga                            0.000704897\n",
       "kikolo                            0.000914291\n",
       "harvest                            0.00693771\n",
       "olusuku                           0.000534682\n",
       "coffee                              0.0426804\n",
       "super grow                         0.00194386\n",
       "rice                                0.0131824\n",
       "ensujju                           0.000163727\n",
       "okulima                           0.000580058\n",
       "worm                              0.000414681\n",
       "ebbugga                            0.00218333\n",
       "onion                              0.00564733\n",
       "ensigo                            9.68574e-05\n",
       "plantation                          0.0311738\n",
       "ensukusa                           0.00304602\n",
       "maize stalk borer                  0.00422686\n",
       "amakoola                          4.29836e-05\n",
       "muceere                           0.000233924\n",
       "insect                             0.00711042\n",
       "pumpkin                              0.011637\n",
       "spray                               0.0214806\n",
       "namuginga                         0.000913741\n",
       "tomatoes                           0.00198448\n",
       "akatungulu                         0.00144893\n",
       "Name: 0, dtype: object"
      ]
     },
     "execution_count": 60,
     "metadata": {},
     "output_type": "execute_result"
    }
   ],
   "source": [
    "ss.iloc[0].head(50)"
   ]
  },
  {
   "cell_type": "code",
   "execution_count": 50,
   "metadata": {},
   "outputs": [
    {
     "data": {
      "text/plain": [
       "0     0.122147\n",
       "1     0.902141\n",
       "2     0.545835\n",
       "3     0.373367\n",
       "4     0.975584\n",
       "5     0.986190\n",
       "6     0.188066\n",
       "7     0.582413\n",
       "8     0.426959\n",
       "9     0.989064\n",
       "10    0.779893\n",
       "11    0.370795\n",
       "12    0.996144\n",
       "13    0.691412\n",
       "14    0.659083\n",
       "15    0.990605\n",
       "16    0.877287\n",
       "17    0.194924\n",
       "18    0.953616\n",
       "19    0.966536\n",
       "20    0.898173\n",
       "21    0.793724\n",
       "22    0.094479\n",
       "23    0.252177\n",
       "24    0.820794\n",
       "25    0.998079\n",
       "26    0.801478\n",
       "27    0.150810\n",
       "28    0.447712\n",
       "29    0.741101\n",
       "30    0.322774\n",
       "31    0.093110\n",
       "32    0.993455\n",
       "33    0.084359\n",
       "34    0.997168\n",
       "35    0.303094\n",
       "36    0.981314\n",
       "37    0.921808\n",
       "38    0.698371\n",
       "39    0.980834\n",
       "40    0.945421\n",
       "41    0.378373\n",
       "42    0.498932\n",
       "43    0.349385\n",
       "44    0.466179\n",
       "45    0.968857\n",
       "46    0.662687\n",
       "47    0.493059\n",
       "48    0.976281\n",
       "49    0.312943\n",
       "dtype: float64"
      ]
     },
     "execution_count": 50,
     "metadata": {},
     "output_type": "execute_result"
    }
   ],
   "source": [
    "ss.max(axis = 1).head(50)"
   ]
  },
  {
   "cell_type": "code",
   "execution_count": 4,
   "metadata": {},
   "outputs": [],
   "source": [
    "merge = (0.4 * dpn.iloc[:,1:].values) + (0.4 * resnext.iloc[:,1:].values) + (0.2 * resnet.iloc[:,1:].values)\n",
    "merge = pd.DataFrame(merge)\n",
    "merge.columns = ss.iloc[:,1:].columns"
   ]
  },
  {
   "cell_type": "code",
   "execution_count": 5,
   "metadata": {},
   "outputs": [],
   "source": [
    "ss.iloc[:,1:] = merge"
   ]
  },
  {
   "cell_type": "code",
   "execution_count": 6,
   "metadata": {},
   "outputs": [],
   "source": [
    "ss.to_csv(\"4_4_2_dpn_rnext_rnet35.csv\", index = False)"
   ]
  },
  {
   "cell_type": "code",
   "execution_count": null,
   "metadata": {},
   "outputs": [],
   "source": []
  }
 ],
 "metadata": {
  "kernelspec": {
   "display_name": "Python 3",
   "language": "python",
   "name": "python3"
  },
  "language_info": {
   "codemirror_mode": {
    "name": "ipython",
    "version": 3
   },
   "file_extension": ".py",
   "mimetype": "text/x-python",
   "name": "python",
   "nbconvert_exporter": "python",
   "pygments_lexer": "ipython3",
   "version": "3.7.7"
  }
 },
 "nbformat": 4,
 "nbformat_minor": 4
}
