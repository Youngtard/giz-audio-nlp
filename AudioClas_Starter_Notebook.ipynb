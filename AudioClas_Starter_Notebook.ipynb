{
 "cells": [
  {
   "cell_type": "markdown",
   "metadata": {
    "colab_type": "text",
    "id": "h1O9_pchWFAx"
   },
   "source": [
    "# Introduction\n",
    "\n",
    "This notebook is a quick introduction to the GIZ NLP Agricultural Keyword Spotter challenge on Zindi. We'll take a peek at the data, fit a quick (bad) model and make a submission. Let's get going!"
   ]
  },
  {
   "cell_type": "markdown",
   "metadata": {
    "colab_type": "text",
    "id": "v4OdNCeP18-F"
   },
   "source": [
    "# Getting Set Up\n",
    "\n",
    "You'll need the files from Zindi, but the actual audio files are also available via this drive link: https://drive.google.com/file/d/1IGp1lDi0RIEuE7xuhCVIxEUROuEn-Ucv/view?usp=sharing\n",
    "\n",
    "So I'd suggest uploading Train.csv and SampleSubmission.csv and then mounting your drive and copying in the files as shown here:"
   ]
  },
  {
   "cell_type": "code",
   "execution_count": null,
   "metadata": {
    "colab": {},
    "colab_type": "code",
    "id": "QgLBGRGz1yq2"
   },
   "outputs": [],
   "source": [
    "# Copy the files in and unzip\n",
    "!cp 'drive/My Drive/audio_files.zip' audio_files.zip\n",
    "!unzip -q audio_files.zip"
   ]
  },
  {
   "cell_type": "code",
   "execution_count": null,
   "metadata": {
    "colab": {
     "base_uri": "https://localhost:8080/",
     "height": 51
    },
    "colab_type": "code",
    "id": "4OIc8y1O2tMx",
    "outputId": "9b92c6c1-1c4c-40ff-8b88-f17950cfc091"
   },
   "outputs": [
    {
     "name": "stdout",
     "output_type": "stream",
     "text": [
      "audio_files\t drive\t      SampleSubmission.csv\n",
      "audio_files.zip  sample_data  Train.csv\n"
     ]
    }
   ],
   "source": [
    "!ls # Check the other files (train and sample sub)"
   ]
  },
  {
   "cell_type": "markdown",
   "metadata": {
    "colab_type": "text",
    "id": "40iWzP1A-hEk"
   },
   "source": [
    "We'll also need a few libraries. Run these cells to install. You may then need to restart the runtime."
   ]
  },
  {
   "cell_type": "code",
   "execution_count": null,
   "metadata": {
    "colab": {
     "base_uri": "https://localhost:8080/",
     "height": 34
    },
    "colab_type": "code",
    "id": "gthTFVb86QCe",
    "outputId": "e25a85f0-7987-42c3-8c31-757a5c4f79a8"
   },
   "outputs": [
    {
     "name": "stdout",
     "output_type": "stream",
     "text": [
      "\u001b[?25l\r",
      "\u001b[K     |█                               | 10kB 23.1MB/s eta 0:00:01\r",
      "\u001b[K     |█▉                              | 20kB 6.8MB/s eta 0:00:01\r",
      "\u001b[K     |██▊                             | 30kB 8.3MB/s eta 0:00:01\r",
      "\u001b[K     |███▊                            | 40kB 8.9MB/s eta 0:00:01\r",
      "\u001b[K     |████▋                           | 51kB 7.2MB/s eta 0:00:01\r",
      "\u001b[K     |█████▌                          | 61kB 7.8MB/s eta 0:00:01\r",
      "\u001b[K     |██████▌                         | 71kB 8.8MB/s eta 0:00:01\r",
      "\u001b[K     |███████▍                        | 81kB 9.0MB/s eta 0:00:01\r",
      "\u001b[K     |████████▎                       | 92kB 8.4MB/s eta 0:00:01\r",
      "\u001b[K     |█████████▎                      | 102kB 8.6MB/s eta 0:00:01\r",
      "\u001b[K     |██████████▏                     | 112kB 8.6MB/s eta 0:00:01\r",
      "\u001b[K     |███████████                     | 122kB 8.6MB/s eta 0:00:01\r",
      "\u001b[K     |████████████                    | 133kB 8.6MB/s eta 0:00:01\r",
      "\u001b[K     |█████████████                   | 143kB 8.6MB/s eta 0:00:01\r",
      "\u001b[K     |█████████████▉                  | 153kB 8.6MB/s eta 0:00:01\r",
      "\u001b[K     |██████████████▉                 | 163kB 8.6MB/s eta 0:00:01\r",
      "\u001b[K     |███████████████▊                | 174kB 8.6MB/s eta 0:00:01\r",
      "\u001b[K     |████████████████▋               | 184kB 8.6MB/s eta 0:00:01\r",
      "\u001b[K     |█████████████████▋              | 194kB 8.6MB/s eta 0:00:01\r",
      "\u001b[K     |██████████████████▌             | 204kB 8.6MB/s eta 0:00:01\r",
      "\u001b[K     |███████████████████▍            | 215kB 8.6MB/s eta 0:00:01\r",
      "\u001b[K     |████████████████████▍           | 225kB 8.6MB/s eta 0:00:01\r",
      "\u001b[K     |█████████████████████▎          | 235kB 8.6MB/s eta 0:00:01\r",
      "\u001b[K     |██████████████████████▏         | 245kB 8.6MB/s eta 0:00:01\r",
      "\u001b[K     |███████████████████████▏        | 256kB 8.6MB/s eta 0:00:01\r",
      "\u001b[K     |████████████████████████        | 266kB 8.6MB/s eta 0:00:01\r",
      "\u001b[K     |█████████████████████████       | 276kB 8.6MB/s eta 0:00:01\r",
      "\u001b[K     |█████████████████████████▉      | 286kB 8.6MB/s eta 0:00:01\r",
      "\u001b[K     |██████████████████████████▉     | 296kB 8.6MB/s eta 0:00:01\r",
      "\u001b[K     |███████████████████████████▊    | 307kB 8.6MB/s eta 0:00:01\r",
      "\u001b[K     |████████████████████████████▋   | 317kB 8.6MB/s eta 0:00:01\r",
      "\u001b[K     |█████████████████████████████▋  | 327kB 8.6MB/s eta 0:00:01\r",
      "\u001b[K     |██████████████████████████████▌ | 337kB 8.6MB/s eta 0:00:01\r",
      "\u001b[K     |███████████████████████████████▍| 348kB 8.6MB/s eta 0:00:01\r",
      "\u001b[K     |████████████████████████████████| 358kB 8.6MB/s \n",
      "\u001b[?25h"
     ]
    }
   ],
   "source": [
    "!pip install -q fastai fastcore --upgrade # Make sure we have the new version"
   ]
  },
  {
   "cell_type": "code",
   "execution_count": null,
   "metadata": {
    "colab": {
     "base_uri": "https://localhost:8080/",
     "height": 34
    },
    "colab_type": "code",
    "id": "t-5agYag6nPg",
    "outputId": "ed612859-943c-465f-ddd7-9e7870794e2b"
   },
   "outputs": [
    {
     "name": "stdout",
     "output_type": "stream",
     "text": [
      "  Building wheel for python-speech-features (setup.py) ... \u001b[?25l\u001b[?25hdone\n"
     ]
    }
   ],
   "source": [
    "!pip install -q python_speech_features"
   ]
  },
  {
   "cell_type": "markdown",
   "metadata": {
    "colab_type": "text",
    "id": "13-Wzjl220bA"
   },
   "source": [
    "# First Look\n",
    "\n",
    "This is an audio classification task, and it's a hard one! Each audio file is a recording of someone saying a key word or phrase. Let's look at the train file and listen to a few random samples"
   ]
  },
  {
   "cell_type": "code",
   "execution_count": 2,
   "metadata": {
    "colab": {},
    "colab_type": "code",
    "id": "RBYwPyKl2x4s"
   },
   "outputs": [],
   "source": [
    "import pandas as pd\n",
    "import IPython.display as ipd"
   ]
  },
  {
   "cell_type": "code",
   "execution_count": 3,
   "metadata": {
    "colab": {
     "base_uri": "https://localhost:8080/",
     "height": 204
    },
    "colab_type": "code",
    "id": "WI0jHls53JSi",
    "outputId": "e098a4b8-c3a8-4362-ed35-fea3f2936e81"
   },
   "outputs": [
    {
     "data": {
      "text/html": [
       "<div>\n",
       "<style scoped>\n",
       "    .dataframe tbody tr th:only-of-type {\n",
       "        vertical-align: middle;\n",
       "    }\n",
       "\n",
       "    .dataframe tbody tr th {\n",
       "        vertical-align: top;\n",
       "    }\n",
       "\n",
       "    .dataframe thead th {\n",
       "        text-align: right;\n",
       "    }\n",
       "</style>\n",
       "<table border=\"1\" class=\"dataframe\">\n",
       "  <thead>\n",
       "    <tr style=\"text-align: right;\">\n",
       "      <th></th>\n",
       "      <th>fn</th>\n",
       "      <th>label</th>\n",
       "    </tr>\n",
       "  </thead>\n",
       "  <tbody>\n",
       "    <tr>\n",
       "      <th>0</th>\n",
       "      <td>audio_files/IV38R7F.wav</td>\n",
       "      <td>akawuka</td>\n",
       "    </tr>\n",
       "    <tr>\n",
       "      <th>1</th>\n",
       "      <td>audio_files/KM4SKWT.wav</td>\n",
       "      <td>banana</td>\n",
       "    </tr>\n",
       "    <tr>\n",
       "      <th>2</th>\n",
       "      <td>audio_files/F5POSU9.wav</td>\n",
       "      <td>obulwadde</td>\n",
       "    </tr>\n",
       "    <tr>\n",
       "      <th>3</th>\n",
       "      <td>audio_files/MMVDXG2.wav</td>\n",
       "      <td>nnyaanya</td>\n",
       "    </tr>\n",
       "    <tr>\n",
       "      <th>4</th>\n",
       "      <td>audio_files/9TVM96F.wav</td>\n",
       "      <td>pampu</td>\n",
       "    </tr>\n",
       "  </tbody>\n",
       "</table>\n",
       "</div>"
      ],
      "text/plain": [
       "                        fn      label\n",
       "0  audio_files/IV38R7F.wav    akawuka\n",
       "1  audio_files/KM4SKWT.wav     banana\n",
       "2  audio_files/F5POSU9.wav  obulwadde\n",
       "3  audio_files/MMVDXG2.wav   nnyaanya\n",
       "4  audio_files/9TVM96F.wav      pampu"
      ]
     },
     "execution_count": 3,
     "metadata": {},
     "output_type": "execute_result"
    }
   ],
   "source": [
    "train = pd.read_csv('Train.csv')\n",
    "train.head()"
   ]
  },
  {
   "cell_type": "code",
   "execution_count": 5,
   "metadata": {
    "colab": {
     "base_uri": "https://localhost:8080/",
     "height": 75
    },
    "colab_type": "code",
    "id": "_uem5JVp3PIC",
    "outputId": "e42ec528-df08-47c2-c1f9-6b485d693e3d"
   },
   "outputs": [
    {
     "data": {
      "text/html": [
       "\n",
       "                <audio  controls=\"controls\" >\n",
       "                    <source src=\"data:audio/wav;base64,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\" type=\"audio/wav\" />\n",
       "                    Your browser does not support the audio element.\n",
       "                </audio>\n",
       "              "
      ],
      "text/plain": [
       "<IPython.lib.display.Audio object>"
      ]
     },
     "execution_count": 5,
     "metadata": {},
     "output_type": "execute_result"
    }
   ],
   "source": [
    "# Show a sample to listen to\n",
    "ipd.Audio(train.fn.sample().values)"
   ]
  },
  {
   "cell_type": "markdown",
   "metadata": {
    "colab_type": "text",
    "id": "BOZAnIaH3jRe"
   },
   "source": [
    "Our task is to predict which word is being spoken for some un-labeled recordings (the test set). To submit our predictions we much follow the submission format:"
   ]
  },
  {
   "cell_type": "code",
   "execution_count": null,
   "metadata": {
    "colab": {
     "base_uri": "https://localhost:8080/",
     "height": 287
    },
    "colab_type": "code",
    "id": "JoI7ag9D3WsF",
    "outputId": "bf80a5a2-387e-439c-e901-57edac60d371"
   },
   "outputs": [
    {
     "data": {
      "text/html": [
       "<div>\n",
       "<style scoped>\n",
       "    .dataframe tbody tr th:only-of-type {\n",
       "        vertical-align: middle;\n",
       "    }\n",
       "\n",
       "    .dataframe tbody tr th {\n",
       "        vertical-align: top;\n",
       "    }\n",
       "\n",
       "    .dataframe thead th {\n",
       "        text-align: right;\n",
       "    }\n",
       "</style>\n",
       "<table border=\"1\" class=\"dataframe\">\n",
       "  <thead>\n",
       "    <tr style=\"text-align: right;\">\n",
       "      <th></th>\n",
       "      <th>fn</th>\n",
       "      <th>maize streak virus</th>\n",
       "      <th>disease</th>\n",
       "      <th>okukkoola</th>\n",
       "      <th>muwogo</th>\n",
       "      <th>mpeke</th>\n",
       "      <th>mucungwa</th>\n",
       "      <th>greens</th>\n",
       "      <th>garden</th>\n",
       "      <th>mango</th>\n",
       "      <th>bulimi</th>\n",
       "      <th>obuwuka</th>\n",
       "      <th>ebikoola</th>\n",
       "      <th>obulimi</th>\n",
       "      <th>ebisoolisooli</th>\n",
       "      <th>kaamulali</th>\n",
       "      <th>eddagala</th>\n",
       "      <th>beans</th>\n",
       "      <th>omuyembe</th>\n",
       "      <th>leaf</th>\n",
       "      <th>kisaanyi</th>\n",
       "      <th>leaves</th>\n",
       "      <th>butterfly</th>\n",
       "      <th>okuzifuuyira</th>\n",
       "      <th>micungwa</th>\n",
       "      <th>ppaapaali</th>\n",
       "      <th>emboga</th>\n",
       "      <th>kikolo</th>\n",
       "      <th>harvest</th>\n",
       "      <th>olusuku</th>\n",
       "      <th>coffee</th>\n",
       "      <th>super grow</th>\n",
       "      <th>rice</th>\n",
       "      <th>ensujju</th>\n",
       "      <th>okulima</th>\n",
       "      <th>worm</th>\n",
       "      <th>ebbugga</th>\n",
       "      <th>onion</th>\n",
       "      <th>ensigo</th>\n",
       "      <th>plantation</th>\n",
       "      <th>...</th>\n",
       "      <th>ejjobyo</th>\n",
       "      <th>omulimi</th>\n",
       "      <th>okusimba</th>\n",
       "      <th>sweet potatoes</th>\n",
       "      <th>okufuuyira</th>\n",
       "      <th>farming instructor</th>\n",
       "      <th>nnasale beedi</th>\n",
       "      <th>passion fruit</th>\n",
       "      <th>ekitooke</th>\n",
       "      <th>ebisaanyi</th>\n",
       "      <th>ekyeya</th>\n",
       "      <th>enva endiirwa</th>\n",
       "      <th>emisiri</th>\n",
       "      <th>emiyembe</th>\n",
       "      <th>amatooke</th>\n",
       "      <th>ebiwuka</th>\n",
       "      <th>farm</th>\n",
       "      <th>ebinyebwa</th>\n",
       "      <th>amappapaali</th>\n",
       "      <th>ebimera</th>\n",
       "      <th>kassooli</th>\n",
       "      <th>harvesting</th>\n",
       "      <th>emmwanyi</th>\n",
       "      <th>akamonde</th>\n",
       "      <th>obumonde</th>\n",
       "      <th>cabbages</th>\n",
       "      <th>akasaanyi</th>\n",
       "      <th>spread</th>\n",
       "      <th>ebirime</th>\n",
       "      <th>drought</th>\n",
       "      <th>kasaanyi</th>\n",
       "      <th>suckers</th>\n",
       "      <th>insects</th>\n",
       "      <th>fertilizer</th>\n",
       "      <th>nakavundira</th>\n",
       "      <th>ekiwojjolo</th>\n",
       "      <th>akawuka</th>\n",
       "      <th>ddagala</th>\n",
       "      <th>ebiwojjolo</th>\n",
       "      <th>obutungulu</th>\n",
       "    </tr>\n",
       "  </thead>\n",
       "  <tbody>\n",
       "    <tr>\n",
       "      <th>0</th>\n",
       "      <td>audio_files/3JXQ47B.wav</td>\n",
       "      <td>0</td>\n",
       "      <td>0</td>\n",
       "      <td>0</td>\n",
       "      <td>0</td>\n",
       "      <td>0</td>\n",
       "      <td>0</td>\n",
       "      <td>0</td>\n",
       "      <td>0</td>\n",
       "      <td>0</td>\n",
       "      <td>0</td>\n",
       "      <td>0</td>\n",
       "      <td>0</td>\n",
       "      <td>0</td>\n",
       "      <td>0</td>\n",
       "      <td>0</td>\n",
       "      <td>0</td>\n",
       "      <td>0</td>\n",
       "      <td>0</td>\n",
       "      <td>0</td>\n",
       "      <td>0</td>\n",
       "      <td>0</td>\n",
       "      <td>0</td>\n",
       "      <td>0</td>\n",
       "      <td>0</td>\n",
       "      <td>0</td>\n",
       "      <td>0</td>\n",
       "      <td>0</td>\n",
       "      <td>0</td>\n",
       "      <td>0</td>\n",
       "      <td>0</td>\n",
       "      <td>0</td>\n",
       "      <td>0</td>\n",
       "      <td>0</td>\n",
       "      <td>0</td>\n",
       "      <td>0</td>\n",
       "      <td>0</td>\n",
       "      <td>0</td>\n",
       "      <td>0</td>\n",
       "      <td>0</td>\n",
       "      <td>...</td>\n",
       "      <td>0</td>\n",
       "      <td>0</td>\n",
       "      <td>0</td>\n",
       "      <td>0</td>\n",
       "      <td>0</td>\n",
       "      <td>0</td>\n",
       "      <td>0</td>\n",
       "      <td>0</td>\n",
       "      <td>0</td>\n",
       "      <td>0</td>\n",
       "      <td>0</td>\n",
       "      <td>0</td>\n",
       "      <td>0</td>\n",
       "      <td>0</td>\n",
       "      <td>0</td>\n",
       "      <td>0</td>\n",
       "      <td>0</td>\n",
       "      <td>0</td>\n",
       "      <td>0</td>\n",
       "      <td>0</td>\n",
       "      <td>0</td>\n",
       "      <td>0</td>\n",
       "      <td>0</td>\n",
       "      <td>0</td>\n",
       "      <td>0</td>\n",
       "      <td>0</td>\n",
       "      <td>0</td>\n",
       "      <td>0</td>\n",
       "      <td>0</td>\n",
       "      <td>0</td>\n",
       "      <td>0</td>\n",
       "      <td>0</td>\n",
       "      <td>0</td>\n",
       "      <td>0</td>\n",
       "      <td>0</td>\n",
       "      <td>0</td>\n",
       "      <td>0</td>\n",
       "      <td>0</td>\n",
       "      <td>0</td>\n",
       "      <td>0</td>\n",
       "    </tr>\n",
       "    <tr>\n",
       "      <th>1</th>\n",
       "      <td>audio_files/LZL66TN.wav</td>\n",
       "      <td>0</td>\n",
       "      <td>0</td>\n",
       "      <td>0</td>\n",
       "      <td>0</td>\n",
       "      <td>0</td>\n",
       "      <td>0</td>\n",
       "      <td>0</td>\n",
       "      <td>0</td>\n",
       "      <td>0</td>\n",
       "      <td>0</td>\n",
       "      <td>0</td>\n",
       "      <td>0</td>\n",
       "      <td>0</td>\n",
       "      <td>0</td>\n",
       "      <td>0</td>\n",
       "      <td>0</td>\n",
       "      <td>0</td>\n",
       "      <td>0</td>\n",
       "      <td>0</td>\n",
       "      <td>0</td>\n",
       "      <td>0</td>\n",
       "      <td>0</td>\n",
       "      <td>0</td>\n",
       "      <td>0</td>\n",
       "      <td>0</td>\n",
       "      <td>0</td>\n",
       "      <td>0</td>\n",
       "      <td>0</td>\n",
       "      <td>0</td>\n",
       "      <td>0</td>\n",
       "      <td>0</td>\n",
       "      <td>0</td>\n",
       "      <td>0</td>\n",
       "      <td>0</td>\n",
       "      <td>0</td>\n",
       "      <td>0</td>\n",
       "      <td>0</td>\n",
       "      <td>0</td>\n",
       "      <td>0</td>\n",
       "      <td>...</td>\n",
       "      <td>0</td>\n",
       "      <td>0</td>\n",
       "      <td>0</td>\n",
       "      <td>0</td>\n",
       "      <td>0</td>\n",
       "      <td>0</td>\n",
       "      <td>0</td>\n",
       "      <td>0</td>\n",
       "      <td>0</td>\n",
       "      <td>0</td>\n",
       "      <td>0</td>\n",
       "      <td>0</td>\n",
       "      <td>0</td>\n",
       "      <td>0</td>\n",
       "      <td>0</td>\n",
       "      <td>0</td>\n",
       "      <td>0</td>\n",
       "      <td>0</td>\n",
       "      <td>0</td>\n",
       "      <td>0</td>\n",
       "      <td>0</td>\n",
       "      <td>0</td>\n",
       "      <td>0</td>\n",
       "      <td>0</td>\n",
       "      <td>0</td>\n",
       "      <td>0</td>\n",
       "      <td>0</td>\n",
       "      <td>0</td>\n",
       "      <td>0</td>\n",
       "      <td>0</td>\n",
       "      <td>0</td>\n",
       "      <td>0</td>\n",
       "      <td>0</td>\n",
       "      <td>0</td>\n",
       "      <td>0</td>\n",
       "      <td>0</td>\n",
       "      <td>0</td>\n",
       "      <td>0</td>\n",
       "      <td>0</td>\n",
       "      <td>0</td>\n",
       "    </tr>\n",
       "    <tr>\n",
       "      <th>2</th>\n",
       "      <td>audio_files/GXAENJV.wav</td>\n",
       "      <td>0</td>\n",
       "      <td>0</td>\n",
       "      <td>0</td>\n",
       "      <td>0</td>\n",
       "      <td>0</td>\n",
       "      <td>0</td>\n",
       "      <td>0</td>\n",
       "      <td>0</td>\n",
       "      <td>0</td>\n",
       "      <td>0</td>\n",
       "      <td>0</td>\n",
       "      <td>0</td>\n",
       "      <td>0</td>\n",
       "      <td>0</td>\n",
       "      <td>0</td>\n",
       "      <td>0</td>\n",
       "      <td>0</td>\n",
       "      <td>0</td>\n",
       "      <td>0</td>\n",
       "      <td>0</td>\n",
       "      <td>0</td>\n",
       "      <td>0</td>\n",
       "      <td>0</td>\n",
       "      <td>0</td>\n",
       "      <td>0</td>\n",
       "      <td>0</td>\n",
       "      <td>0</td>\n",
       "      <td>0</td>\n",
       "      <td>0</td>\n",
       "      <td>0</td>\n",
       "      <td>0</td>\n",
       "      <td>0</td>\n",
       "      <td>0</td>\n",
       "      <td>0</td>\n",
       "      <td>0</td>\n",
       "      <td>0</td>\n",
       "      <td>0</td>\n",
       "      <td>0</td>\n",
       "      <td>0</td>\n",
       "      <td>...</td>\n",
       "      <td>0</td>\n",
       "      <td>0</td>\n",
       "      <td>0</td>\n",
       "      <td>0</td>\n",
       "      <td>0</td>\n",
       "      <td>0</td>\n",
       "      <td>0</td>\n",
       "      <td>0</td>\n",
       "      <td>0</td>\n",
       "      <td>0</td>\n",
       "      <td>0</td>\n",
       "      <td>0</td>\n",
       "      <td>0</td>\n",
       "      <td>0</td>\n",
       "      <td>0</td>\n",
       "      <td>0</td>\n",
       "      <td>0</td>\n",
       "      <td>0</td>\n",
       "      <td>0</td>\n",
       "      <td>0</td>\n",
       "      <td>0</td>\n",
       "      <td>0</td>\n",
       "      <td>0</td>\n",
       "      <td>0</td>\n",
       "      <td>0</td>\n",
       "      <td>0</td>\n",
       "      <td>0</td>\n",
       "      <td>0</td>\n",
       "      <td>0</td>\n",
       "      <td>0</td>\n",
       "      <td>0</td>\n",
       "      <td>0</td>\n",
       "      <td>0</td>\n",
       "      <td>0</td>\n",
       "      <td>0</td>\n",
       "      <td>0</td>\n",
       "      <td>0</td>\n",
       "      <td>0</td>\n",
       "      <td>0</td>\n",
       "      <td>0</td>\n",
       "    </tr>\n",
       "    <tr>\n",
       "      <th>3</th>\n",
       "      <td>audio_files/50XJOIJ.wav</td>\n",
       "      <td>0</td>\n",
       "      <td>0</td>\n",
       "      <td>0</td>\n",
       "      <td>0</td>\n",
       "      <td>0</td>\n",
       "      <td>0</td>\n",
       "      <td>0</td>\n",
       "      <td>0</td>\n",
       "      <td>0</td>\n",
       "      <td>0</td>\n",
       "      <td>0</td>\n",
       "      <td>0</td>\n",
       "      <td>0</td>\n",
       "      <td>0</td>\n",
       "      <td>0</td>\n",
       "      <td>0</td>\n",
       "      <td>0</td>\n",
       "      <td>0</td>\n",
       "      <td>0</td>\n",
       "      <td>0</td>\n",
       "      <td>0</td>\n",
       "      <td>0</td>\n",
       "      <td>0</td>\n",
       "      <td>0</td>\n",
       "      <td>0</td>\n",
       "      <td>0</td>\n",
       "      <td>0</td>\n",
       "      <td>0</td>\n",
       "      <td>0</td>\n",
       "      <td>0</td>\n",
       "      <td>0</td>\n",
       "      <td>0</td>\n",
       "      <td>0</td>\n",
       "      <td>0</td>\n",
       "      <td>0</td>\n",
       "      <td>0</td>\n",
       "      <td>0</td>\n",
       "      <td>0</td>\n",
       "      <td>0</td>\n",
       "      <td>...</td>\n",
       "      <td>0</td>\n",
       "      <td>0</td>\n",
       "      <td>0</td>\n",
       "      <td>0</td>\n",
       "      <td>0</td>\n",
       "      <td>0</td>\n",
       "      <td>0</td>\n",
       "      <td>0</td>\n",
       "      <td>0</td>\n",
       "      <td>0</td>\n",
       "      <td>0</td>\n",
       "      <td>0</td>\n",
       "      <td>0</td>\n",
       "      <td>0</td>\n",
       "      <td>0</td>\n",
       "      <td>0</td>\n",
       "      <td>0</td>\n",
       "      <td>0</td>\n",
       "      <td>0</td>\n",
       "      <td>0</td>\n",
       "      <td>0</td>\n",
       "      <td>0</td>\n",
       "      <td>0</td>\n",
       "      <td>0</td>\n",
       "      <td>0</td>\n",
       "      <td>0</td>\n",
       "      <td>0</td>\n",
       "      <td>0</td>\n",
       "      <td>0</td>\n",
       "      <td>0</td>\n",
       "      <td>0</td>\n",
       "      <td>0</td>\n",
       "      <td>0</td>\n",
       "      <td>0</td>\n",
       "      <td>0</td>\n",
       "      <td>0</td>\n",
       "      <td>0</td>\n",
       "      <td>0</td>\n",
       "      <td>0</td>\n",
       "      <td>0</td>\n",
       "    </tr>\n",
       "    <tr>\n",
       "      <th>4</th>\n",
       "      <td>audio_files/PT9FZXC.wav</td>\n",
       "      <td>0</td>\n",
       "      <td>0</td>\n",
       "      <td>0</td>\n",
       "      <td>0</td>\n",
       "      <td>0</td>\n",
       "      <td>0</td>\n",
       "      <td>0</td>\n",
       "      <td>0</td>\n",
       "      <td>0</td>\n",
       "      <td>0</td>\n",
       "      <td>0</td>\n",
       "      <td>0</td>\n",
       "      <td>0</td>\n",
       "      <td>0</td>\n",
       "      <td>0</td>\n",
       "      <td>0</td>\n",
       "      <td>0</td>\n",
       "      <td>0</td>\n",
       "      <td>0</td>\n",
       "      <td>0</td>\n",
       "      <td>0</td>\n",
       "      <td>0</td>\n",
       "      <td>0</td>\n",
       "      <td>0</td>\n",
       "      <td>0</td>\n",
       "      <td>0</td>\n",
       "      <td>0</td>\n",
       "      <td>0</td>\n",
       "      <td>0</td>\n",
       "      <td>0</td>\n",
       "      <td>0</td>\n",
       "      <td>0</td>\n",
       "      <td>0</td>\n",
       "      <td>0</td>\n",
       "      <td>0</td>\n",
       "      <td>0</td>\n",
       "      <td>0</td>\n",
       "      <td>0</td>\n",
       "      <td>0</td>\n",
       "      <td>...</td>\n",
       "      <td>0</td>\n",
       "      <td>0</td>\n",
       "      <td>0</td>\n",
       "      <td>0</td>\n",
       "      <td>0</td>\n",
       "      <td>0</td>\n",
       "      <td>0</td>\n",
       "      <td>0</td>\n",
       "      <td>0</td>\n",
       "      <td>0</td>\n",
       "      <td>0</td>\n",
       "      <td>0</td>\n",
       "      <td>0</td>\n",
       "      <td>0</td>\n",
       "      <td>0</td>\n",
       "      <td>0</td>\n",
       "      <td>0</td>\n",
       "      <td>0</td>\n",
       "      <td>0</td>\n",
       "      <td>0</td>\n",
       "      <td>0</td>\n",
       "      <td>0</td>\n",
       "      <td>0</td>\n",
       "      <td>0</td>\n",
       "      <td>0</td>\n",
       "      <td>0</td>\n",
       "      <td>0</td>\n",
       "      <td>0</td>\n",
       "      <td>0</td>\n",
       "      <td>0</td>\n",
       "      <td>0</td>\n",
       "      <td>0</td>\n",
       "      <td>0</td>\n",
       "      <td>0</td>\n",
       "      <td>0</td>\n",
       "      <td>0</td>\n",
       "      <td>0</td>\n",
       "      <td>0</td>\n",
       "      <td>0</td>\n",
       "      <td>0</td>\n",
       "    </tr>\n",
       "  </tbody>\n",
       "</table>\n",
       "<p>5 rows × 194 columns</p>\n",
       "</div>"
      ],
      "text/plain": [
       "                        fn  maize streak virus  ...  ebiwojjolo  obutungulu\n",
       "0  audio_files/3JXQ47B.wav                   0  ...           0           0\n",
       "1  audio_files/LZL66TN.wav                   0  ...           0           0\n",
       "2  audio_files/GXAENJV.wav                   0  ...           0           0\n",
       "3  audio_files/50XJOIJ.wav                   0  ...           0           0\n",
       "4  audio_files/PT9FZXC.wav                   0  ...           0           0\n",
       "\n",
       "[5 rows x 194 columns]"
      ]
     },
     "execution_count": 10,
     "metadata": {
      "tags": []
     },
     "output_type": "execute_result"
    }
   ],
   "source": [
    "ss = pd.read_csv('SampleSubmission.csv')\n",
    "ss.head()"
   ]
  },
  {
   "cell_type": "markdown",
   "metadata": {
    "colab_type": "text",
    "id": "qf75N2a031N3"
   },
   "source": [
    "For each file we must submit probabilities - how likely we think it is that each keyword is the one being spoken in the audio file. Now, this sounds pretty easy (speech recognition has been around for a while) but what makes this harder is the dataset size - a constraint that is often encountered when dealing with languages other than English. The recordings are also fairly low quality. Let's see how many training examples we have for each word:"
   ]
  },
  {
   "cell_type": "code",
   "execution_count": null,
   "metadata": {
    "colab": {
     "base_uri": "https://localhost:8080/",
     "height": 282
    },
    "colab_type": "code",
    "id": "ZxDJR90G4H_-",
    "outputId": "f2154bfa-bd58-4bc5-a976-6d74149b2afc"
   },
   "outputs": [
    {
     "data": {
      "text/plain": [
       "<matplotlib.axes._subplots.AxesSubplot at 0x7ffbd73b6f28>"
      ]
     },
     "execution_count": 11,
     "metadata": {
      "tags": []
     },
     "output_type": "execute_result"
    },
    {
     "data": {
      "image/png": "[encoded data removed]",
      "text/plain": [
       "<Figure size 432x288 with 1 Axes>"
      ]
     },
     "metadata": {
      "needs_background": "light",
      "tags": []
     },
     "output_type": "display_data"
    }
   ],
   "source": [
    "# Plot a histogram showing how common different counts are\n",
    "train.groupby('label').count()['fn'].plot(kind='hist')"
   ]
  },
  {
   "cell_type": "code",
   "execution_count": null,
   "metadata": {
    "colab": {
     "base_uri": "https://localhost:8080/",
     "height": 34
    },
    "colab_type": "code",
    "id": "wfuPz3qDB4AY",
    "outputId": "633f328b-667d-4aac-9ec6-3bb131ebbf96"
   },
   "outputs": [
    {
     "data": {
      "text/plain": [
       "3"
      ]
     },
     "execution_count": 12,
     "metadata": {
      "tags": []
     },
     "output_type": "execute_result"
    }
   ],
   "source": [
    "train.groupby('label').count()['fn'].min()"
   ]
  },
  {
   "cell_type": "markdown",
   "metadata": {
    "colab_type": "text",
    "id": "ASdR98n54olR"
   },
   "source": [
    "You can see that for many words we only have 3 or 4 training examples! And even the most common words only have 10 or 12 examples. Now, this will change: as the competition progresses we're hoping to get a bit more data from the project. But even so, your solution will need to get creative in terms of how you deal with this constraint."
   ]
  },
  {
   "cell_type": "markdown",
   "metadata": {
    "colab_type": "text",
    "id": "jcDdmz3f5PWd"
   },
   "source": [
    "# Where do we begin?\n",
    "\n",
    "So how do we even think about approaching this sort of challenge? There are a few ways - here we'll show one of the most popular. We'll convert the audio files into a 2D image called a spectrogram, which shows the sound intensity at different frequencies over time. We'll use these image representations as the inputs to a neural network. This approach doesn't do very well out of the box here, but hopefully it's enough to get you thinking of better ideas!\n",
    "\n",
    "To help us with this we'll use a few useful libraries:\n",
    "- fastai to give us a powerful framework for deep learning\n",
    "- librosa for audio processing\n",
    "\n",
    "Let's start by making a function to turn an audio file into an image:"
   ]
  },
  {
   "cell_type": "code",
   "execution_count": null,
   "metadata": {
    "colab": {},
    "colab_type": "code",
    "id": "lePlpOHW6A-z"
   },
   "outputs": [],
   "source": [
    "import librosa\n",
    "import python_speech_features as psf\n",
    "from matplotlib import pyplot as plt\n",
    "import numpy as np"
   ]
  },
  {
   "cell_type": "code",
   "execution_count": null,
   "metadata": {
    "colab": {
     "base_uri": "https://localhost:8080/",
     "height": 286
    },
    "colab_type": "code",
    "id": "4Ft8HqmB41lU",
    "outputId": "ab311c87-aa99-4d4e-e075-53635920a9b1"
   },
   "outputs": [
    {
     "data": {
      "text/plain": [
       "<matplotlib.image.AxesImage at 0x7ffbbd391d30>"
      ]
     },
     "execution_count": 15,
     "metadata": {
      "tags": []
     },
     "output_type": "execute_result"
    },
    {
     "data": {
      "image/png": "[encoded data removed]",
      "text/plain": [
       "<Figure size 432x288 with 1 Axes>"
      ]
     },
     "metadata": {
      "needs_background": "light",
      "tags": []
     },
     "output_type": "display_data"
    }
   ],
   "source": [
    "def im_from_audio(fn, sample_rate=44100, window_length=0.05, window_step=0.0045, NFFT=2205):\n",
    "  \n",
    "  # Load the audio into an array (signal) at the specified sample rate\n",
    "  signal, sr = librosa.load(fn, sr=sample_rate)\n",
    "\n",
    "  # preemphasis\n",
    "  signal = psf.sigproc.preemphasis(signal, coeff=0.95)\n",
    "\n",
    "  # get specrogram\n",
    "  # Get the frames\n",
    "  frames = psf.sigproc.framesig(signal, \n",
    "                                  window_length*sample_rate, \n",
    "                                  window_step*sample_rate, \n",
    "                                  lambda x:np.ones((x,)))        # Window function \n",
    "    \n",
    "  # magnitude Spectrogram\n",
    "  spectrogram = np.rot90(psf.sigproc.magspec(frames, NFFT))\n",
    "  \n",
    "  # get rid of high frequencies\n",
    "  spectrogram = spectrogram[512:,:]\n",
    "\n",
    "  # normalize in [0, 1]\n",
    "  spectrogram -= spectrogram.min(axis=None)\n",
    "  spectrogram /= spectrogram.max(axis=None)        \n",
    "\n",
    "  # Clip to max 512, 512\n",
    "  spectrogram = spectrogram[:512, :512]\n",
    "  \n",
    "  return spectrogram \n",
    "\n",
    "# View the resultant image\n",
    "plt.imshow(im_from_audio(train.fn.sample().values[0]))"
   ]
  },
  {
   "cell_type": "code",
   "execution_count": null,
   "metadata": {
    "colab": {
     "base_uri": "https://localhost:8080/",
     "height": 34
    },
    "colab_type": "code",
    "id": "LKN42JQs7EuM",
    "outputId": "00c5e37e-deab-4d3c-bd42-ea5df449bcd6"
   },
   "outputs": [
    {
     "data": {
      "text/plain": [
       "(512, 512)"
      ]
     },
     "execution_count": 16,
     "metadata": {
      "tags": []
     },
     "output_type": "execute_result"
    }
   ],
   "source": [
    "# Check the shape. For some, we may need to pad to make the full 512 width\n",
    "im_from_audio(train.fn.sample().values[0]).shape"
   ]
  },
  {
   "cell_type": "markdown",
   "metadata": {
    "colab_type": "text",
    "id": "Dj0hrm328b57"
   },
   "source": [
    "# Feeding this into fastai\n",
    "\n",
    "You could save these spectrograms as images and use a library of your choice. But with fastai v2 we can use the datablock API to make a custom data loader that will read the audio file, create the spectrograms and prepare that for training:"
   ]
  },
  {
   "cell_type": "code",
   "execution_count": null,
   "metadata": {
    "colab": {
     "base_uri": "https://localhost:8080/",
     "height": 536
    },
    "colab_type": "code",
    "id": "eo4GmJIt77oA",
    "outputId": "67691620-a02e-4d20-c3f6-0e40da3e5fcc"
   },
   "outputs": [
    {
     "data": {
      "image/png": "[encoded data removed]",
      "text/plain": [
       "<Figure size 648x648 with 9 Axes>"
      ]
     },
     "metadata": {
      "needs_background": "light",
      "tags": []
     },
     "output_type": "display_data"
    }
   ],
   "source": [
    "from fastai.vision.all import *\n",
    "\n",
    "def get_x(fn):\n",
    "\n",
    "  # Use our function from earlier\n",
    "  spectrogram = im_from_audio(fn) # a 2D array\n",
    "\n",
    "  # Pad to make sure it is 512 x 512\n",
    "  w, h = spectrogram.shape\n",
    "  spectrogram = np.pad(spectrogram, [(0, 512-w), (0, 512-h)])\n",
    "\n",
    "   # Scale to (0, 255)\n",
    "  spectrogram  -= spectrogram.min()\n",
    "  spectrogram *= 255.0/spectrogram.max()\n",
    "\n",
    "  # Make it uint8\n",
    "  im_arr = np.array(spectrogram, np.uint8)\n",
    "\n",
    "  # Make it rgb (hint - some fun tricks you can do here!)\n",
    "  r = im_arr\n",
    "  g = im_arr\n",
    "  b = im_arr\n",
    "\n",
    "  return np.stack([r, g, b], axis=-1)\n",
    "\n",
    "def get_y(fn):\n",
    "  return train.loc[train.fn == fn].label.values[0]\n",
    "\n",
    "def get_fns(_):\n",
    "  return train['fn']\n",
    "\n",
    "# And build the datablock\n",
    "dblock = DataBlock(\n",
    "    blocks=(ImageBlock, CategoryBlock),\n",
    "    get_items=get_fns,\n",
    "    get_x=get_x,\n",
    "    get_y=get_y, \n",
    "    splitter=RandomSplitter(valid_pct=0.1),\n",
    "    batch_tfms=aug_transforms(do_flip=False, p_affine=0, size=224) # Augment with lighting changes but NOT flips or warps\n",
    ")\n",
    "dls = dblock.dataloaders(Path(''), bs=32)\n",
    "dls.show_batch()"
   ]
  },
  {
   "cell_type": "markdown",
   "metadata": {
    "colab_type": "text",
    "id": "VuP02m9V-8uz"
   },
   "source": [
    "Look at that! Inputs and the associated outputs, a 10% validation set, resizing to a smaller size (224px) to speed up modelling... we're ready to train!"
   ]
  },
  {
   "cell_type": "code",
   "execution_count": null,
   "metadata": {
    "colab": {
     "base_uri": "https://localhost:8080/",
     "height": 271,
     "referenced_widgets": [
      "3c0c6c6b27814c58832461b37075c93f",
      "3db118e245094c37b0aaa23bd8cb3b98",
      "af719989bd634e9e9f3cdd11fd509536",
      "1fcb169e865045b9beb662bd4aa10f61",
      "cd865428ffc24395a29446e83c8cce70",
      "aa187e8587b14d29be4310d33b3ac984",
      "98f4663fdddb48e1ad0782403946afe2",
      "55177b5e2df7491da99e6dcfa8358687"
     ]
    },
    "colab_type": "code",
    "id": "RppC5vvc9zjl",
    "outputId": "0f8134c2-0981-40fb-d1f9-bc5cefad1732"
   },
   "outputs": [
    {
     "name": "stderr",
     "output_type": "stream",
     "text": [
      "Downloading: \"https://download.pytorch.org/models/resnet18-5c106cde.pth\" to /root/.cache/torch/hub/checkpoints/resnet18-5c106cde.pth\n"
     ]
    },
    {
     "data": {
      "application/vnd.jupyter.widget-view+json": {
       "model_id": "3c0c6c6b27814c58832461b37075c93f",
       "version_major": 2,
       "version_minor": 0
      },
      "text/plain": [
       "HBox(children=(FloatProgress(value=0.0, max=46827520.0), HTML(value='')))"
      ]
     },
     "metadata": {
      "tags": []
     },
     "output_type": "display_data"
    },
    {
     "name": "stdout",
     "output_type": "stream",
     "text": [
      "\n"
     ]
    },
    {
     "data": {
      "text/html": [
       "<table border=\"1\" class=\"dataframe\">\n",
       "  <thead>\n",
       "    <tr style=\"text-align: left;\">\n",
       "      <th>epoch</th>\n",
       "      <th>train_loss</th>\n",
       "      <th>valid_loss</th>\n",
       "      <th>accuracy</th>\n",
       "      <th>top_k_accuracy</th>\n",
       "      <th>time</th>\n",
       "    </tr>\n",
       "  </thead>\n",
       "  <tbody>\n",
       "    <tr>\n",
       "      <td>0</td>\n",
       "      <td>6.843489</td>\n",
       "      <td>5.990642</td>\n",
       "      <td>0.018182</td>\n",
       "      <td>0.063636</td>\n",
       "      <td>07:24</td>\n",
       "    </tr>\n",
       "  </tbody>\n",
       "</table>"
      ],
      "text/plain": [
       "<IPython.core.display.HTML object>"
      ]
     },
     "metadata": {
      "tags": []
     },
     "output_type": "display_data"
    },
    {
     "data": {
      "text/html": [
       "<table border=\"1\" class=\"dataframe\">\n",
       "  <thead>\n",
       "    <tr style=\"text-align: left;\">\n",
       "      <th>epoch</th>\n",
       "      <th>train_loss</th>\n",
       "      <th>valid_loss</th>\n",
       "      <th>accuracy</th>\n",
       "      <th>top_k_accuracy</th>\n",
       "      <th>time</th>\n",
       "    </tr>\n",
       "  </thead>\n",
       "  <tbody>\n",
       "    <tr>\n",
       "      <td>0</td>\n",
       "      <td>5.510451</td>\n",
       "      <td>5.805666</td>\n",
       "      <td>0.009091</td>\n",
       "      <td>0.054545</td>\n",
       "      <td>07:13</td>\n",
       "    </tr>\n",
       "    <tr>\n",
       "      <td>1</td>\n",
       "      <td>4.880260</td>\n",
       "      <td>5.341318</td>\n",
       "      <td>0.000000</td>\n",
       "      <td>0.109091</td>\n",
       "      <td>07:16</td>\n",
       "    </tr>\n",
       "    <tr>\n",
       "      <td>2</td>\n",
       "      <td>4.095632</td>\n",
       "      <td>5.138071</td>\n",
       "      <td>0.018182</td>\n",
       "      <td>0.090909</td>\n",
       "      <td>07:12</td>\n",
       "    </tr>\n",
       "  </tbody>\n",
       "</table>"
      ],
      "text/plain": [
       "<IPython.core.display.HTML object>"
      ]
     },
     "metadata": {
      "tags": []
     },
     "output_type": "display_data"
    }
   ],
   "source": [
    "learn = cnn_learner(dls, resnet18, metrics=[accuracy, top_k_accuracy])\n",
    "learn.fine_tune(3)"
   ]
  },
  {
   "cell_type": "markdown",
   "metadata": {
    "colab_type": "text",
    "id": "7rADtGxZCtah"
   },
   "source": [
    "# Saving Our Predictions"
   ]
  },
  {
   "cell_type": "code",
   "execution_count": null,
   "metadata": {
    "colab": {
     "base_uri": "https://localhost:8080/",
     "height": 646
    },
    "colab_type": "code",
    "id": "xJCoHyaW_yV_",
    "outputId": "35320a72-3458-4c54-ad1d-6aa91da6be8d"
   },
   "outputs": [
    {
     "data": {
      "text/html": [],
      "text/plain": [
       "<IPython.core.display.HTML object>"
      ]
     },
     "metadata": {
      "tags": []
     },
     "output_type": "display_data"
    },
    {
     "name": "stderr",
     "output_type": "stream",
     "text": [
      "/usr/local/lib/python3.6/dist-packages/ipykernel_launcher.py:14: RuntimeWarning: divide by zero encountered in double_scalars\n",
      "  \n",
      "/usr/local/lib/python3.6/dist-packages/ipykernel_launcher.py:14: RuntimeWarning: invalid value encountered in multiply\n",
      "  \n"
     ]
    },
    {
     "data": {
      "text/plain": [
       "tensor([3.7538e-04, 7.5930e-04, 6.4214e-03, 9.3427e-03, 9.2235e-04, 1.0804e-02,\n",
       "        1.2394e-01, 1.3164e-02, 6.6713e-03, 3.6960e-03, 1.5115e-03, 7.2330e-03,\n",
       "        5.2649e-03, 1.3372e-03, 2.2795e-02, 1.1583e-03, 1.9348e-03, 1.5625e-03,\n",
       "        6.2381e-03, 1.2869e-03, 1.8653e-03, 7.9290e-04, 6.3220e-04, 5.4350e-03,\n",
       "        5.3266e-03, 2.7968e-03, 1.1879e-03, 1.3999e-03, 9.5770e-04, 1.8891e-02,\n",
       "        9.9556e-04, 3.4930e-03, 6.2191e-04, 2.5499e-03, 5.0858e-04, 1.0702e-02,\n",
       "        2.2370e-03, 1.0988e-03, 3.4478e-03, 1.1570e-03, 1.4600e-03, 1.2366e-02,\n",
       "        1.3237e-02, 7.3808e-04, 1.3012e-03, 1.2946e-03, 1.0009e-02, 9.8178e-03,\n",
       "        3.5515e-04, 7.7643e-03, 3.2576e-04, 2.6779e-04, 9.9055e-03, 2.5768e-03,\n",
       "        2.4470e-03, 1.4875e-03, 6.1466e-03, 7.2388e-03, 3.6685e-04, 1.2602e-03,\n",
       "        4.3043e-04, 6.9378e-03, 5.2510e-03, 8.0671e-04, 8.8616e-04, 3.0744e-03,\n",
       "        2.1622e-03, 3.0527e-02, 1.4866e-03, 1.6241e-03, 3.7093e-04, 1.3904e-02,\n",
       "        7.4084e-03, 1.7867e-03, 8.4873e-04, 2.3531e-03, 7.9923e-03, 7.5343e-04,\n",
       "        5.3282e-03, 1.4225e-04, 4.6297e-03, 9.2371e-05, 2.0150e-03, 7.6133e-03,\n",
       "        2.6172e-03, 1.4774e-02, 1.7833e-03, 5.4923e-04, 2.1145e-03, 2.0815e-03,\n",
       "        3.2229e-04, 8.9310e-04, 1.9649e-03, 2.9759e-03, 6.5193e-04, 4.1720e-03,\n",
       "        2.4979e-04, 1.2640e-03, 3.6028e-04, 9.8638e-04, 1.1185e-02, 9.6035e-03,\n",
       "        3.6089e-03, 3.1115e-03, 9.8497e-03, 4.5495e-03, 4.8635e-03, 5.2933e-04,\n",
       "        5.9311e-03, 9.0330e-04, 1.0148e-02, 2.3592e-03, 1.6350e-03, 4.2245e-03,\n",
       "        2.9379e-03, 3.9399e-03, 2.2950e-03, 6.6885e-03, 5.4284e-03, 1.2302e-03,\n",
       "        5.9692e-03, 6.2570e-04, 1.5940e-03, 5.0751e-03, 5.0241e-03, 1.0620e-03,\n",
       "        1.5282e-02, 1.4820e-02, 2.1719e-03, 9.7778e-03, 3.7296e-03, 8.9911e-04,\n",
       "        7.8676e-03, 3.9044e-03, 1.6338e-03, 2.5157e-02, 6.8445e-03, 1.6251e-03,\n",
       "        8.8486e-04, 2.7504e-04, 3.0462e-04, 1.8799e-03, 1.1804e-02, 6.5234e-03,\n",
       "        8.1731e-04, 1.3490e-04, 1.1782e-03, 3.8820e-02, 3.1783e-02, 7.4044e-05,\n",
       "        9.9634e-03, 1.1796e-03, 1.3749e-03, 1.1810e-03, 1.2161e-03, 3.9714e-04,\n",
       "        3.6882e-03, 7.3613e-04, 7.0274e-04, 4.4220e-03, 4.7173e-03, 6.3607e-03,\n",
       "        1.4319e-03, 1.6970e-04, 2.8683e-03, 2.2181e-03, 2.4021e-02, 3.8813e-03,\n",
       "        1.4087e-02, 1.7819e-02, 1.2812e-02, 4.7062e-03, 1.7617e-03, 5.4301e-04,\n",
       "        6.4292e-04, 2.9464e-03, 4.5198e-04, 1.9076e-03, 1.8881e-03, 1.8358e-03,\n",
       "        1.9569e-03, 1.1295e-03, 2.0315e-03, 5.2904e-03, 3.3374e-03, 2.6451e-03,\n",
       "        8.7854e-05, 8.3274e-03, 7.8844e-03, 9.0992e-04, 1.1969e-03, 2.5444e-04,\n",
       "        1.3855e-03])"
      ]
     },
     "execution_count": 19,
     "metadata": {
      "tags": []
     },
     "output_type": "execute_result"
    }
   ],
   "source": [
    "tdl = learn.dls.test_dl(ss['fn'].values, order=True) # Create a test dataloader\n",
    "test_preds, test_labels = learn.get_preds(dl=tdl) # Make the predictions\n",
    "test_preds[0] # Look at an example"
   ]
  },
  {
   "cell_type": "code",
   "execution_count": null,
   "metadata": {
    "colab": {
     "base_uri": "https://localhost:8080/",
     "height": 34
    },
    "colab_type": "code",
    "id": "MdFaLryNMgy1",
    "outputId": "9a4e51dc-5887-42cd-8f78-46fe47407f8d"
   },
   "outputs": [
    {
     "data": {
      "text/plain": [
       "(#193) ['Pump','Spinach','abalimi','afukirira','agriculture','akammwanyi','akamonde','akasaanyi','akatunda','akatungulu'...]"
      ]
     },
     "execution_count": 20,
     "metadata": {
      "tags": []
     },
     "output_type": "execute_result"
    }
   ],
   "source": [
    "dls.vocab # The class names"
   ]
  },
  {
   "cell_type": "code",
   "execution_count": null,
   "metadata": {
    "colab": {
     "base_uri": "https://localhost:8080/",
     "height": 287
    },
    "colab_type": "code",
    "id": "5uiDlxzpNSCG",
    "outputId": "95befd1f-8ff1-46c1-d3f2-8a290efce903"
   },
   "outputs": [
    {
     "data": {
      "text/html": [
       "<div>\n",
       "<style scoped>\n",
       "    .dataframe tbody tr th:only-of-type {\n",
       "        vertical-align: middle;\n",
       "    }\n",
       "\n",
       "    .dataframe tbody tr th {\n",
       "        vertical-align: top;\n",
       "    }\n",
       "\n",
       "    .dataframe thead th {\n",
       "        text-align: right;\n",
       "    }\n",
       "</style>\n",
       "<table border=\"1\" class=\"dataframe\">\n",
       "  <thead>\n",
       "    <tr style=\"text-align: right;\">\n",
       "      <th></th>\n",
       "      <th>fn</th>\n",
       "      <th>maize streak virus</th>\n",
       "      <th>disease</th>\n",
       "      <th>okukkoola</th>\n",
       "      <th>muwogo</th>\n",
       "      <th>mpeke</th>\n",
       "      <th>mucungwa</th>\n",
       "      <th>greens</th>\n",
       "      <th>garden</th>\n",
       "      <th>mango</th>\n",
       "      <th>bulimi</th>\n",
       "      <th>obuwuka</th>\n",
       "      <th>ebikoola</th>\n",
       "      <th>obulimi</th>\n",
       "      <th>ebisoolisooli</th>\n",
       "      <th>kaamulali</th>\n",
       "      <th>eddagala</th>\n",
       "      <th>beans</th>\n",
       "      <th>omuyembe</th>\n",
       "      <th>leaf</th>\n",
       "      <th>kisaanyi</th>\n",
       "      <th>leaves</th>\n",
       "      <th>butterfly</th>\n",
       "      <th>okuzifuuyira</th>\n",
       "      <th>micungwa</th>\n",
       "      <th>ppaapaali</th>\n",
       "      <th>emboga</th>\n",
       "      <th>kikolo</th>\n",
       "      <th>harvest</th>\n",
       "      <th>olusuku</th>\n",
       "      <th>coffee</th>\n",
       "      <th>super grow</th>\n",
       "      <th>rice</th>\n",
       "      <th>ensujju</th>\n",
       "      <th>okulima</th>\n",
       "      <th>worm</th>\n",
       "      <th>ebbugga</th>\n",
       "      <th>onion</th>\n",
       "      <th>ensigo</th>\n",
       "      <th>plantation</th>\n",
       "      <th>...</th>\n",
       "      <th>ejjobyo</th>\n",
       "      <th>omulimi</th>\n",
       "      <th>okusimba</th>\n",
       "      <th>sweet potatoes</th>\n",
       "      <th>okufuuyira</th>\n",
       "      <th>farming instructor</th>\n",
       "      <th>nnasale beedi</th>\n",
       "      <th>passion fruit</th>\n",
       "      <th>ekitooke</th>\n",
       "      <th>ebisaanyi</th>\n",
       "      <th>ekyeya</th>\n",
       "      <th>enva endiirwa</th>\n",
       "      <th>emisiri</th>\n",
       "      <th>emiyembe</th>\n",
       "      <th>amatooke</th>\n",
       "      <th>ebiwuka</th>\n",
       "      <th>farm</th>\n",
       "      <th>ebinyebwa</th>\n",
       "      <th>amappapaali</th>\n",
       "      <th>ebimera</th>\n",
       "      <th>kassooli</th>\n",
       "      <th>harvesting</th>\n",
       "      <th>emmwanyi</th>\n",
       "      <th>akamonde</th>\n",
       "      <th>obumonde</th>\n",
       "      <th>cabbages</th>\n",
       "      <th>akasaanyi</th>\n",
       "      <th>spread</th>\n",
       "      <th>ebirime</th>\n",
       "      <th>drought</th>\n",
       "      <th>kasaanyi</th>\n",
       "      <th>suckers</th>\n",
       "      <th>insects</th>\n",
       "      <th>fertilizer</th>\n",
       "      <th>nakavundira</th>\n",
       "      <th>ekiwojjolo</th>\n",
       "      <th>akawuka</th>\n",
       "      <th>ddagala</th>\n",
       "      <th>ebiwojjolo</th>\n",
       "      <th>obutungulu</th>\n",
       "    </tr>\n",
       "  </thead>\n",
       "  <tbody>\n",
       "    <tr>\n",
       "      <th>0</th>\n",
       "      <td>audio_files/3JXQ47B.wav</td>\n",
       "      <td>0.0039398954</td>\n",
       "      <td>0.018890545</td>\n",
       "      <td>0.009963353</td>\n",
       "      <td>0.0021718796</td>\n",
       "      <td>0.0050750603</td>\n",
       "      <td>0.0010620351</td>\n",
       "      <td>0.00065193494</td>\n",
       "      <td>0.0029758709</td>\n",
       "      <td>0.002295024</td>\n",
       "      <td>0.0012869244</td>\n",
       "      <td>0.001178237</td>\n",
       "      <td>0.0014599684</td>\n",
       "      <td>0.0003046218</td>\n",
       "      <td>0.010008584</td>\n",
       "      <td>0.0036088796</td>\n",
       "      <td>0.00026779456</td>\n",
       "      <td>0.0015624757</td>\n",
       "      <td>0.024021465</td>\n",
       "      <td>0.000903303</td>\n",
       "      <td>0.0005293321</td>\n",
       "      <td>0.010148062</td>\n",
       "      <td>0.0018652758</td>\n",
       "      <td>0.0044220123</td>\n",
       "      <td>0.0015940497</td>\n",
       "      <td>0.0029463582</td>\n",
       "      <td>0.03052712</td>\n",
       "      <td>0.0048635365</td>\n",
       "      <td>0.00024978997</td>\n",
       "      <td>0.004717259</td>\n",
       "      <td>0.0027967833</td>\n",
       "      <td>8.785418e-05</td>\n",
       "      <td>0.0019076039</td>\n",
       "      <td>9.237074e-05</td>\n",
       "      <td>0.0013748948</td>\n",
       "      <td>0.0013854695</td>\n",
       "      <td>0.0006219131</td>\n",
       "      <td>0.0038813015</td>\n",
       "      <td>0.00014224922</td>\n",
       "      <td>0.0006429248</td>\n",
       "      <td>...</td>\n",
       "      <td>0.0025767805</td>\n",
       "      <td>0.00016969783</td>\n",
       "      <td>0.000702738</td>\n",
       "      <td>0.008327434</td>\n",
       "      <td>0.03178277</td>\n",
       "      <td>0.002081479</td>\n",
       "      <td>0.025157396</td>\n",
       "      <td>0.012812346</td>\n",
       "      <td>0.0008861577</td>\n",
       "      <td>0.0013012122</td>\n",
       "      <td>0.0021622179</td>\n",
       "      <td>0.0026172292</td>\n",
       "      <td>0.0016240794</td>\n",
       "      <td>0.00037093402</td>\n",
       "      <td>0.001158344</td>\n",
       "      <td>0.0077643227</td>\n",
       "      <td>0.00054922886</td>\n",
       "      <td>0.013236743</td>\n",
       "      <td>0.022795007</td>\n",
       "      <td>0.012366314</td>\n",
       "      <td>0.009849681</td>\n",
       "      <td>0.001263983</td>\n",
       "      <td>0.013903698</td>\n",
       "      <td>0.12394173</td>\n",
       "      <td>0.011804331</td>\n",
       "      <td>0.00079289643</td>\n",
       "      <td>0.013163691</td>\n",
       "      <td>0.0020315382</td>\n",
       "      <td>0.0007380778</td>\n",
       "      <td>0.0034930385</td>\n",
       "      <td>0.0031115175</td>\n",
       "      <td>0.0052904333</td>\n",
       "      <td>0.0009863818</td>\n",
       "      <td>0.0003222915</td>\n",
       "      <td>0.009777808</td>\n",
       "      <td>0.0030743582</td>\n",
       "      <td>0.0015115414</td>\n",
       "      <td>0.0013998551</td>\n",
       "      <td>0.00035514738</td>\n",
       "      <td>0.00013489995</td>\n",
       "    </tr>\n",
       "    <tr>\n",
       "      <th>1</th>\n",
       "      <td>audio_files/LZL66TN.wav</td>\n",
       "      <td>0.0026722667</td>\n",
       "      <td>0.00028799177</td>\n",
       "      <td>0.0008647308</td>\n",
       "      <td>0.0029599867</td>\n",
       "      <td>0.0007606505</td>\n",
       "      <td>0.0012773789</td>\n",
       "      <td>0.016164238</td>\n",
       "      <td>0.004033798</td>\n",
       "      <td>0.02673647</td>\n",
       "      <td>0.00049336377</td>\n",
       "      <td>0.041096337</td>\n",
       "      <td>0.0011814663</td>\n",
       "      <td>0.002970887</td>\n",
       "      <td>0.00039071133</td>\n",
       "      <td>0.003145008</td>\n",
       "      <td>0.004222295</td>\n",
       "      <td>0.001388899</td>\n",
       "      <td>0.0054110247</td>\n",
       "      <td>0.005373046</td>\n",
       "      <td>0.0011029319</td>\n",
       "      <td>0.0002796697</td>\n",
       "      <td>0.0068766787</td>\n",
       "      <td>0.0012469153</td>\n",
       "      <td>0.0017633798</td>\n",
       "      <td>0.000959785</td>\n",
       "      <td>0.00080226205</td>\n",
       "      <td>0.003885555</td>\n",
       "      <td>0.0041122944</td>\n",
       "      <td>0.0004485707</td>\n",
       "      <td>0.0335314</td>\n",
       "      <td>0.0012249687</td>\n",
       "      <td>0.0030840104</td>\n",
       "      <td>0.005027674</td>\n",
       "      <td>0.00061645015</td>\n",
       "      <td>0.0007601878</td>\n",
       "      <td>0.0020402623</td>\n",
       "      <td>0.0018871565</td>\n",
       "      <td>0.000705584</td>\n",
       "      <td>0.008808682</td>\n",
       "      <td>...</td>\n",
       "      <td>0.069366686</td>\n",
       "      <td>0.00056777295</td>\n",
       "      <td>0.012059076</td>\n",
       "      <td>0.0006588565</td>\n",
       "      <td>0.011666293</td>\n",
       "      <td>0.0012164912</td>\n",
       "      <td>0.0008440862</td>\n",
       "      <td>0.0074777543</td>\n",
       "      <td>0.0015480419</td>\n",
       "      <td>0.008612767</td>\n",
       "      <td>0.00045374967</td>\n",
       "      <td>0.0018106726</td>\n",
       "      <td>0.00035195606</td>\n",
       "      <td>0.0008697528</td>\n",
       "      <td>0.0009701243</td>\n",
       "      <td>0.0038215923</td>\n",
       "      <td>0.00047921494</td>\n",
       "      <td>0.0009881199</td>\n",
       "      <td>0.00045256014</td>\n",
       "      <td>0.000805604</td>\n",
       "      <td>0.0003175499</td>\n",
       "      <td>0.006586907</td>\n",
       "      <td>0.008091173</td>\n",
       "      <td>0.0012172322</td>\n",
       "      <td>0.0010722125</td>\n",
       "      <td>0.020334585</td>\n",
       "      <td>0.0067119105</td>\n",
       "      <td>0.003358836</td>\n",
       "      <td>0.00042374036</td>\n",
       "      <td>0.0008544922</td>\n",
       "      <td>0.0021934435</td>\n",
       "      <td>0.0015286648</td>\n",
       "      <td>0.0027536189</td>\n",
       "      <td>0.0016453522</td>\n",
       "      <td>0.015009208</td>\n",
       "      <td>0.0028415422</td>\n",
       "      <td>0.0016463635</td>\n",
       "      <td>0.014135163</td>\n",
       "      <td>0.0024844485</td>\n",
       "      <td>0.0006926478</td>\n",
       "    </tr>\n",
       "    <tr>\n",
       "      <th>2</th>\n",
       "      <td>audio_files/GXAENJV.wav</td>\n",
       "      <td>0.0013141433</td>\n",
       "      <td>0.0025631506</td>\n",
       "      <td>0.0023728968</td>\n",
       "      <td>0.00875115</td>\n",
       "      <td>0.010774305</td>\n",
       "      <td>0.00021979354</td>\n",
       "      <td>0.0007478149</td>\n",
       "      <td>0.0059283646</td>\n",
       "      <td>0.0009341617</td>\n",
       "      <td>0.008819798</td>\n",
       "      <td>0.0022416594</td>\n",
       "      <td>0.0044098226</td>\n",
       "      <td>0.0021688226</td>\n",
       "      <td>0.00208779</td>\n",
       "      <td>0.012103737</td>\n",
       "      <td>0.0003563388</td>\n",
       "      <td>0.0017168736</td>\n",
       "      <td>0.06288243</td>\n",
       "      <td>0.004107527</td>\n",
       "      <td>0.0012325174</td>\n",
       "      <td>0.00044614755</td>\n",
       "      <td>0.0025157938</td>\n",
       "      <td>0.015248397</td>\n",
       "      <td>0.00396622</td>\n",
       "      <td>0.0009389222</td>\n",
       "      <td>0.031290185</td>\n",
       "      <td>0.0033811678</td>\n",
       "      <td>0.00068109063</td>\n",
       "      <td>0.0014016692</td>\n",
       "      <td>0.006412047</td>\n",
       "      <td>0.00054084003</td>\n",
       "      <td>0.0018825603</td>\n",
       "      <td>0.011162398</td>\n",
       "      <td>0.03527638</td>\n",
       "      <td>0.00043556117</td>\n",
       "      <td>0.0025700831</td>\n",
       "      <td>0.00071385544</td>\n",
       "      <td>0.0005960309</td>\n",
       "      <td>0.0011737419</td>\n",
       "      <td>...</td>\n",
       "      <td>0.006191916</td>\n",
       "      <td>0.002320929</td>\n",
       "      <td>0.0019490377</td>\n",
       "      <td>0.001731448</td>\n",
       "      <td>0.00075142545</td>\n",
       "      <td>0.002353503</td>\n",
       "      <td>0.0068118223</td>\n",
       "      <td>0.0014209995</td>\n",
       "      <td>0.02118783</td>\n",
       "      <td>0.0027540005</td>\n",
       "      <td>0.0008853626</td>\n",
       "      <td>0.0068635084</td>\n",
       "      <td>0.00015250572</td>\n",
       "      <td>0.005385551</td>\n",
       "      <td>0.003824358</td>\n",
       "      <td>0.000979022</td>\n",
       "      <td>0.00027336756</td>\n",
       "      <td>0.001986166</td>\n",
       "      <td>0.013705371</td>\n",
       "      <td>0.049471073</td>\n",
       "      <td>0.0022162527</td>\n",
       "      <td>0.0019223057</td>\n",
       "      <td>0.035395443</td>\n",
       "      <td>0.021841696</td>\n",
       "      <td>0.008339571</td>\n",
       "      <td>0.0047675967</td>\n",
       "      <td>0.0025223305</td>\n",
       "      <td>0.0016232941</td>\n",
       "      <td>0.0008263331</td>\n",
       "      <td>0.010325737</td>\n",
       "      <td>8.725532e-05</td>\n",
       "      <td>0.024292704</td>\n",
       "      <td>0.000398273</td>\n",
       "      <td>0.002229702</td>\n",
       "      <td>0.0048380317</td>\n",
       "      <td>0.00035575512</td>\n",
       "      <td>0.0133059975</td>\n",
       "      <td>0.00092182227</td>\n",
       "      <td>0.0039490177</td>\n",
       "      <td>0.001572818</td>\n",
       "    </tr>\n",
       "    <tr>\n",
       "      <th>3</th>\n",
       "      <td>audio_files/50XJOIJ.wav</td>\n",
       "      <td>0.0010712128</td>\n",
       "      <td>0.00046781937</td>\n",
       "      <td>0.0050304676</td>\n",
       "      <td>0.0018122987</td>\n",
       "      <td>0.005594457</td>\n",
       "      <td>0.0012455543</td>\n",
       "      <td>0.0038443862</td>\n",
       "      <td>0.0076679797</td>\n",
       "      <td>0.0010442368</td>\n",
       "      <td>0.0026783322</td>\n",
       "      <td>0.003698586</td>\n",
       "      <td>0.0020021326</td>\n",
       "      <td>0.0017928501</td>\n",
       "      <td>0.0017000479</td>\n",
       "      <td>0.0034644431</td>\n",
       "      <td>0.0009009043</td>\n",
       "      <td>0.0032530162</td>\n",
       "      <td>0.0017687607</td>\n",
       "      <td>0.023019515</td>\n",
       "      <td>0.006661872</td>\n",
       "      <td>0.0020809397</td>\n",
       "      <td>0.0049703033</td>\n",
       "      <td>0.00049682724</td>\n",
       "      <td>0.0027589947</td>\n",
       "      <td>0.0032032963</td>\n",
       "      <td>0.0011907729</td>\n",
       "      <td>0.004350825</td>\n",
       "      <td>0.0028766524</td>\n",
       "      <td>0.0033942398</td>\n",
       "      <td>0.015148359</td>\n",
       "      <td>0.0010829245</td>\n",
       "      <td>0.0142496135</td>\n",
       "      <td>0.0040860916</td>\n",
       "      <td>0.0025229778</td>\n",
       "      <td>0.0027094136</td>\n",
       "      <td>0.0016937681</td>\n",
       "      <td>0.0018021592</td>\n",
       "      <td>0.007774217</td>\n",
       "      <td>0.001304629</td>\n",
       "      <td>...</td>\n",
       "      <td>0.0034194812</td>\n",
       "      <td>0.0012229942</td>\n",
       "      <td>0.003394837</td>\n",
       "      <td>0.004122073</td>\n",
       "      <td>0.0007585836</td>\n",
       "      <td>0.0013920031</td>\n",
       "      <td>0.0013468193</td>\n",
       "      <td>0.0017591141</td>\n",
       "      <td>0.00039783173</td>\n",
       "      <td>0.006925378</td>\n",
       "      <td>0.0050177276</td>\n",
       "      <td>0.0006384473</td>\n",
       "      <td>0.0008948769</td>\n",
       "      <td>0.0011046025</td>\n",
       "      <td>0.0011325419</td>\n",
       "      <td>0.0012028133</td>\n",
       "      <td>0.26008996</td>\n",
       "      <td>0.0027102756</td>\n",
       "      <td>0.0004781118</td>\n",
       "      <td>0.0061162543</td>\n",
       "      <td>0.00071705383</td>\n",
       "      <td>0.0019412101</td>\n",
       "      <td>0.0019941484</td>\n",
       "      <td>0.0005010425</td>\n",
       "      <td>0.0015189964</td>\n",
       "      <td>0.0030937917</td>\n",
       "      <td>0.0020639237</td>\n",
       "      <td>0.0040647485</td>\n",
       "      <td>0.0009240294</td>\n",
       "      <td>0.0051354603</td>\n",
       "      <td>0.0041718637</td>\n",
       "      <td>0.0013596149</td>\n",
       "      <td>0.0010791727</td>\n",
       "      <td>0.0043151933</td>\n",
       "      <td>0.002904446</td>\n",
       "      <td>0.005062003</td>\n",
       "      <td>0.0019005545</td>\n",
       "      <td>0.0046402477</td>\n",
       "      <td>0.0019175855</td>\n",
       "      <td>0.0040442166</td>\n",
       "    </tr>\n",
       "    <tr>\n",
       "      <th>4</th>\n",
       "      <td>audio_files/PT9FZXC.wav</td>\n",
       "      <td>0.0018013632</td>\n",
       "      <td>0.0020286865</td>\n",
       "      <td>0.0036523528</td>\n",
       "      <td>0.0032891957</td>\n",
       "      <td>0.0116091175</td>\n",
       "      <td>0.0028761993</td>\n",
       "      <td>0.0005709484</td>\n",
       "      <td>0.00021958619</td>\n",
       "      <td>0.0001988135</td>\n",
       "      <td>0.011659327</td>\n",
       "      <td>0.00021456607</td>\n",
       "      <td>0.0105684865</td>\n",
       "      <td>0.00081259833</td>\n",
       "      <td>0.0016637045</td>\n",
       "      <td>0.0023597246</td>\n",
       "      <td>0.0010992809</td>\n",
       "      <td>0.0038486128</td>\n",
       "      <td>0.0058268444</td>\n",
       "      <td>0.0016797254</td>\n",
       "      <td>0.0019069293</td>\n",
       "      <td>0.0045720586</td>\n",
       "      <td>0.0018778733</td>\n",
       "      <td>0.0020688009</td>\n",
       "      <td>0.0011992481</td>\n",
       "      <td>0.0008735977</td>\n",
       "      <td>0.0048918636</td>\n",
       "      <td>0.004348369</td>\n",
       "      <td>0.019279122</td>\n",
       "      <td>0.087003835</td>\n",
       "      <td>0.006507967</td>\n",
       "      <td>0.0005854188</td>\n",
       "      <td>0.00034800766</td>\n",
       "      <td>0.009087464</td>\n",
       "      <td>0.0016822503</td>\n",
       "      <td>0.0031396684</td>\n",
       "      <td>0.0064108553</td>\n",
       "      <td>0.0072326744</td>\n",
       "      <td>0.011545966</td>\n",
       "      <td>0.0003122558</td>\n",
       "      <td>...</td>\n",
       "      <td>0.0010137694</td>\n",
       "      <td>0.0008586007</td>\n",
       "      <td>0.0015476221</td>\n",
       "      <td>0.0053357156</td>\n",
       "      <td>0.009843862</td>\n",
       "      <td>0.0035417622</td>\n",
       "      <td>0.0019500384</td>\n",
       "      <td>0.001959705</td>\n",
       "      <td>0.006273059</td>\n",
       "      <td>0.01254578</td>\n",
       "      <td>0.002023027</td>\n",
       "      <td>0.0007406353</td>\n",
       "      <td>0.0026293804</td>\n",
       "      <td>0.0045051565</td>\n",
       "      <td>0.0068674814</td>\n",
       "      <td>0.00011012404</td>\n",
       "      <td>0.004491251</td>\n",
       "      <td>0.005015731</td>\n",
       "      <td>0.0059788716</td>\n",
       "      <td>0.00051730574</td>\n",
       "      <td>0.0152151575</td>\n",
       "      <td>0.0029584735</td>\n",
       "      <td>0.0022175272</td>\n",
       "      <td>0.009895668</td>\n",
       "      <td>0.017768439</td>\n",
       "      <td>0.0018663361</td>\n",
       "      <td>0.036114715</td>\n",
       "      <td>0.002204789</td>\n",
       "      <td>0.00308134</td>\n",
       "      <td>0.0028698016</td>\n",
       "      <td>0.019881602</td>\n",
       "      <td>0.042717032</td>\n",
       "      <td>0.0024939142</td>\n",
       "      <td>0.0035547207</td>\n",
       "      <td>0.0005331227</td>\n",
       "      <td>0.0042677713</td>\n",
       "      <td>0.0043287077</td>\n",
       "      <td>0.00035938743</td>\n",
       "      <td>0.00052073</td>\n",
       "      <td>0.0024400735</td>\n",
       "    </tr>\n",
       "  </tbody>\n",
       "</table>\n",
       "<p>5 rows × 194 columns</p>\n",
       "</div>"
      ],
      "text/plain": [
       "                        fn maize streak virus  ...     ebiwojjolo     obutungulu\n",
       "0  audio_files/3JXQ47B.wav       0.0039398954  ...  0.00035514738  0.00013489995\n",
       "1  audio_files/LZL66TN.wav       0.0026722667  ...   0.0024844485   0.0006926478\n",
       "2  audio_files/GXAENJV.wav       0.0013141433  ...   0.0039490177    0.001572818\n",
       "3  audio_files/50XJOIJ.wav       0.0010712128  ...   0.0019175855   0.0040442166\n",
       "4  audio_files/PT9FZXC.wav       0.0018013632  ...     0.00052073   0.0024400735\n",
       "\n",
       "[5 rows x 194 columns]"
      ]
     },
     "execution_count": 21,
     "metadata": {
      "tags": []
     },
     "output_type": "execute_result"
    }
   ],
   "source": [
    "# Save the predictions in the required format\n",
    "for i, label in enumerate(dls.vocab):\n",
    "  ss[label] = [t[i].numpy() for t in test_preds]\n",
    "ss.head()"
   ]
  },
  {
   "cell_type": "code",
   "execution_count": null,
   "metadata": {
    "colab": {},
    "colab_type": "code",
    "id": "xVQq84DPNpQO"
   },
   "outputs": [],
   "source": [
    "ss.to_csv('Submission1.csv', index=False)"
   ]
  },
  {
   "cell_type": "markdown",
   "metadata": {
    "colab_type": "text",
    "id": "tZniD6ThCw6a"
   },
   "source": [
    "# Making it better\n",
    "\n",
    "- Split sensibly - rather than a random split, consider splitting such that your validation set samples from each class.\n",
    "- Rather than duplicating the spectrogram across the three channels, consider ways to make it more useful as a 3 channel image or just use a single channel network.\n",
    "- Is using a network pre-trained on ImageNet really the best way to go?\n",
    "- Better architectures, more training, test time augmentation can all give a score boost, but don't rely on these alone to get you to the top...\n",
    "- This dataset is small. What if you used the network as a feature extractor and then used another method for classification instead?\n",
    "- Look into what other folks doing audio classification have been doing - there are some really cool papers from the last year or two begging to be re-implemented."
   ]
  },
  {
   "cell_type": "code",
   "execution_count": null,
   "metadata": {
    "colab": {},
    "colab_type": "code",
    "id": "pM1d_33lW9Bq"
   },
   "outputs": [],
   "source": []
  }
 ],
 "metadata": {
  "accelerator": "GPU",
  "colab": {
   "name": "AudioClas Starter Notebook.ipynb",
   "provenance": []
  },
  "kernelspec": {
   "display_name": "Python 3",
   "language": "python",
   "name": "python3"
  },
  "language_info": {
   "codemirror_mode": {
    "name": "ipython",
    "version": 3
   },
   "file_extension": ".py",
   "mimetype": "text/x-python",
   "name": "python",
   "nbconvert_exporter": "python",
   "pygments_lexer": "ipython3",
   "version": "3.7.7"
  },
  "widgets": {
   "application/vnd.jupyter.widget-state+json": {
    "1fcb169e865045b9beb662bd4aa10f61": {
     "model_module": "@jupyter-widgets/controls",
     "model_name": "HTMLModel",
     "state": {
      "_dom_classes": [],
      "_model_module": "@jupyter-widgets/controls",
      "_model_module_version": "1.5.0",
      "_model_name": "HTMLModel",
      "_view_count": null,
      "_view_module": "@jupyter-widgets/controls",
      "_view_module_version": "1.5.0",
      "_view_name": "HTMLView",
      "description": "",
      "description_tooltip": null,
      "layout": "IPY_MODEL_55177b5e2df7491da99e6dcfa8358687",
      "placeholder": "​",
      "style": "IPY_MODEL_98f4663fdddb48e1ad0782403946afe2",
      "value": " 44.7M/44.7M [35:32&lt;00:00, 22.0kB/s]"
     }
    },
    "3c0c6c6b27814c58832461b37075c93f": {
     "model_module": "@jupyter-widgets/controls",
     "model_name": "HBoxModel",
     "state": {
      "_dom_classes": [],
      "_model_module": "@jupyter-widgets/controls",
      "_model_module_version": "1.5.0",
      "_model_name": "HBoxModel",
      "_view_count": null,
      "_view_module": "@jupyter-widgets/controls",
      "_view_module_version": "1.5.0",
      "_view_name": "HBoxView",
      "box_style": "",
      "children": [
       "IPY_MODEL_af719989bd634e9e9f3cdd11fd509536",
       "IPY_MODEL_1fcb169e865045b9beb662bd4aa10f61"
      ],
      "layout": "IPY_MODEL_3db118e245094c37b0aaa23bd8cb3b98"
     }
    },
    "3db118e245094c37b0aaa23bd8cb3b98": {
     "model_module": "@jupyter-widgets/base",
     "model_name": "LayoutModel",
     "state": {
      "_model_module": "@jupyter-widgets/base",
      "_model_module_version": "1.2.0",
      "_model_name": "LayoutModel",
      "_view_count": null,
      "_view_module": "@jupyter-widgets/base",
      "_view_module_version": "1.2.0",
      "_view_name": "LayoutView",
      "align_content": null,
      "align_items": null,
      "align_self": null,
      "border": null,
      "bottom": null,
      "display": null,
      "flex": null,
      "flex_flow": null,
      "grid_area": null,
      "grid_auto_columns": null,
      "grid_auto_flow": null,
      "grid_auto_rows": null,
      "grid_column": null,
      "grid_gap": null,
      "grid_row": null,
      "grid_template_areas": null,
      "grid_template_columns": null,
      "grid_template_rows": null,
      "height": null,
      "justify_content": null,
      "justify_items": null,
      "left": null,
      "margin": null,
      "max_height": null,
      "max_width": null,
      "min_height": null,
      "min_width": null,
      "object_fit": null,
      "object_position": null,
      "order": null,
      "overflow": null,
      "overflow_x": null,
      "overflow_y": null,
      "padding": null,
      "right": null,
      "top": null,
      "visibility": null,
      "width": null
     }
    },
    "55177b5e2df7491da99e6dcfa8358687": {
     "model_module": "@jupyter-widgets/base",
     "model_name": "LayoutModel",
     "state": {
      "_model_module": "@jupyter-widgets/base",
      "_model_module_version": "1.2.0",
      "_model_name": "LayoutModel",
      "_view_count": null,
      "_view_module": "@jupyter-widgets/base",
      "_view_module_version": "1.2.0",
      "_view_name": "LayoutView",
      "align_content": null,
      "align_items": null,
      "align_self": null,
      "border": null,
      "bottom": null,
      "display": null,
      "flex": null,
      "flex_flow": null,
      "grid_area": null,
      "grid_auto_columns": null,
      "grid_auto_flow": null,
      "grid_auto_rows": null,
      "grid_column": null,
      "grid_gap": null,
      "grid_row": null,
      "grid_template_areas": null,
      "grid_template_columns": null,
      "grid_template_rows": null,
      "height": null,
      "justify_content": null,
      "justify_items": null,
      "left": null,
      "margin": null,
      "max_height": null,
      "max_width": null,
      "min_height": null,
      "min_width": null,
      "object_fit": null,
      "object_position": null,
      "order": null,
      "overflow": null,
      "overflow_x": null,
      "overflow_y": null,
      "padding": null,
      "right": null,
      "top": null,
      "visibility": null,
      "width": null
     }
    },
    "98f4663fdddb48e1ad0782403946afe2": {
     "model_module": "@jupyter-widgets/controls",
     "model_name": "DescriptionStyleModel",
     "state": {
      "_model_module": "@jupyter-widgets/controls",
      "_model_module_version": "1.5.0",
      "_model_name": "DescriptionStyleModel",
      "_view_count": null,
      "_view_module": "@jupyter-widgets/base",
      "_view_module_version": "1.2.0",
      "_view_name": "StyleView",
      "description_width": ""
     }
    },
    "aa187e8587b14d29be4310d33b3ac984": {
     "model_module": "@jupyter-widgets/base",
     "model_name": "LayoutModel",
     "state": {
      "_model_module": "@jupyter-widgets/base",
      "_model_module_version": "1.2.0",
      "_model_name": "LayoutModel",
      "_view_count": null,
      "_view_module": "@jupyter-widgets/base",
      "_view_module_version": "1.2.0",
      "_view_name": "LayoutView",
      "align_content": null,
      "align_items": null,
      "align_self": null,
      "border": null,
      "bottom": null,
      "display": null,
      "flex": null,
      "flex_flow": null,
      "grid_area": null,
      "grid_auto_columns": null,
      "grid_auto_flow": null,
      "grid_auto_rows": null,
      "grid_column": null,
      "grid_gap": null,
      "grid_row": null,
      "grid_template_areas": null,
      "grid_template_columns": null,
      "grid_template_rows": null,
      "height": null,
      "justify_content": null,
      "justify_items": null,
      "left": null,
      "margin": null,
      "max_height": null,
      "max_width": null,
      "min_height": null,
      "min_width": null,
      "object_fit": null,
      "object_position": null,
      "order": null,
      "overflow": null,
      "overflow_x": null,
      "overflow_y": null,
      "padding": null,
      "right": null,
      "top": null,
      "visibility": null,
      "width": null
     }
    },
    "af719989bd634e9e9f3cdd11fd509536": {
     "model_module": "@jupyter-widgets/controls",
     "model_name": "FloatProgressModel",
     "state": {
      "_dom_classes": [],
      "_model_module": "@jupyter-widgets/controls",
      "_model_module_version": "1.5.0",
      "_model_name": "FloatProgressModel",
      "_view_count": null,
      "_view_module": "@jupyter-widgets/controls",
      "_view_module_version": "1.5.0",
      "_view_name": "ProgressView",
      "bar_style": "success",
      "description": "100%",
      "description_tooltip": null,
      "layout": "IPY_MODEL_aa187e8587b14d29be4310d33b3ac984",
      "max": 46827520,
      "min": 0,
      "orientation": "horizontal",
      "style": "IPY_MODEL_cd865428ffc24395a29446e83c8cce70",
      "value": 46827520
     }
    },
    "cd865428ffc24395a29446e83c8cce70": {
     "model_module": "@jupyter-widgets/controls",
     "model_name": "ProgressStyleModel",
     "state": {
      "_model_module": "@jupyter-widgets/controls",
      "_model_module_version": "1.5.0",
      "_model_name": "ProgressStyleModel",
      "_view_count": null,
      "_view_module": "@jupyter-widgets/base",
      "_view_module_version": "1.2.0",
      "_view_name": "StyleView",
      "bar_color": null,
      "description_width": "initial"
     }
    }
   }
  }
 },
 "nbformat": 4,
 "nbformat_minor": 1
}
